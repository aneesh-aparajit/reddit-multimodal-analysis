{
 "cells": [
  {
   "cell_type": "markdown",
   "id": "afdc5f49",
   "metadata": {},
   "source": [
    "# Create Folds"
   ]
  },
  {
   "cell_type": "code",
   "execution_count": 1,
   "id": "d37c9ac9",
   "metadata": {},
   "outputs": [],
   "source": [
    "import pandas as pd\n",
    "import numpy as np\n",
    "from sklearn.model_selection import StratifiedKFold"
   ]
  },
  {
   "cell_type": "code",
   "execution_count": 2,
   "id": "99180cd6",
   "metadata": {},
   "outputs": [
    {
     "data": {
      "text/html": [
       "<div>\n",
       "<style scoped>\n",
       "    .dataframe tbody tr th:only-of-type {\n",
       "        vertical-align: middle;\n",
       "    }\n",
       "\n",
       "    .dataframe tbody tr th {\n",
       "        vertical-align: top;\n",
       "    }\n",
       "\n",
       "    .dataframe thead th {\n",
       "        text-align: right;\n",
       "    }\n",
       "</style>\n",
       "<table border=\"1\" class=\"dataframe\">\n",
       "  <thead>\n",
       "    <tr style=\"text-align: right;\">\n",
       "      <th></th>\n",
       "      <th>image_name</th>\n",
       "      <th>text_ocr</th>\n",
       "      <th>text_corrected</th>\n",
       "      <th>humour</th>\n",
       "      <th>sarcasm</th>\n",
       "      <th>offensive</th>\n",
       "      <th>motivational</th>\n",
       "      <th>overall_sentiment</th>\n",
       "    </tr>\n",
       "  </thead>\n",
       "  <tbody>\n",
       "    <tr>\n",
       "      <th>0</th>\n",
       "      <td>image_6115.jpg</td>\n",
       "      <td>I am therefore leaving immediately for Nepal</td>\n",
       "      <td>I am therefore leaving immediately for Nepal  ...</td>\n",
       "      <td>not_funny</td>\n",
       "      <td>general</td>\n",
       "      <td>slight</td>\n",
       "      <td>not_motivational</td>\n",
       "      <td>positive</td>\n",
       "    </tr>\n",
       "    <tr>\n",
       "      <th>1</th>\n",
       "      <td>image_952.jpg</td>\n",
       "      <td>YOU HAD MY CURIOSITY</td>\n",
       "      <td>YOU HAD MY CURIOSITY  BUT NOW YOU HAVE MY ATTE...</td>\n",
       "      <td>not_funny</td>\n",
       "      <td>not_sarcastic</td>\n",
       "      <td>not_offensive</td>\n",
       "      <td>not_motivational</td>\n",
       "      <td>neutral</td>\n",
       "    </tr>\n",
       "    <tr>\n",
       "      <th>2</th>\n",
       "      <td>image_5419.jpg</td>\n",
       "      <td>you should fear me</td>\n",
       "      <td>you should fear me</td>\n",
       "      <td>hilarious</td>\n",
       "      <td>twisted_meaning</td>\n",
       "      <td>hateful_offensive</td>\n",
       "      <td>not_motivational</td>\n",
       "      <td>neutral</td>\n",
       "    </tr>\n",
       "    <tr>\n",
       "      <th>3</th>\n",
       "      <td>image_1617.png</td>\n",
       "      <td>In a time of universal deceit</td>\n",
       "      <td>In a time of universal deceit  telling the tru...</td>\n",
       "      <td>not_funny</td>\n",
       "      <td>not_sarcastic</td>\n",
       "      <td>very_offensive</td>\n",
       "      <td>motivational</td>\n",
       "      <td>very_positive</td>\n",
       "    </tr>\n",
       "    <tr>\n",
       "      <th>4</th>\n",
       "      <td>image_4875.jpeg</td>\n",
       "      <td>RYAN REYNOLDS DESIGNS OMMICHANG DETECTIVE PIKA...</td>\n",
       "      <td>RYAN REYNOLDS DESIGNS OMMICHANG DETECTIVE PIKA...</td>\n",
       "      <td>not_funny</td>\n",
       "      <td>general</td>\n",
       "      <td>very_offensive</td>\n",
       "      <td>motivational</td>\n",
       "      <td>neutral</td>\n",
       "    </tr>\n",
       "  </tbody>\n",
       "</table>\n",
       "</div>"
      ],
      "text/plain": [
       "        image_name                                           text_ocr  \\\n",
       "0   image_6115.jpg       I am therefore leaving immediately for Nepal   \n",
       "1    image_952.jpg                               YOU HAD MY CURIOSITY   \n",
       "2   image_5419.jpg                                 you should fear me   \n",
       "3   image_1617.png                      In a time of universal deceit   \n",
       "4  image_4875.jpeg  RYAN REYNOLDS DESIGNS OMMICHANG DETECTIVE PIKA...   \n",
       "\n",
       "                                      text_corrected     humour  \\\n",
       "0  I am therefore leaving immediately for Nepal  ...  not_funny   \n",
       "1  YOU HAD MY CURIOSITY  BUT NOW YOU HAVE MY ATTE...  not_funny   \n",
       "2                                 you should fear me  hilarious   \n",
       "3  In a time of universal deceit  telling the tru...  not_funny   \n",
       "4  RYAN REYNOLDS DESIGNS OMMICHANG DETECTIVE PIKA...  not_funny   \n",
       "\n",
       "           sarcasm          offensive      motivational overall_sentiment  \n",
       "0          general             slight  not_motivational          positive  \n",
       "1    not_sarcastic      not_offensive  not_motivational           neutral  \n",
       "2  twisted_meaning  hateful_offensive  not_motivational           neutral  \n",
       "3    not_sarcastic     very_offensive      motivational     very_positive  \n",
       "4          general     very_offensive      motivational           neutral  "
      ]
     },
     "execution_count": 2,
     "metadata": {},
     "output_type": "execute_result"
    }
   ],
   "source": [
    "df = pd.read_csv('./memotion_dataset_7k/labels.csv')\n",
    "df = df.drop('Unnamed: 0', axis=1)\n",
    "df = df.sample(frac=1).reset_index(drop=True)\n",
    "df.head()"
   ]
  },
  {
   "cell_type": "code",
   "execution_count": 3,
   "id": "55c3d23c",
   "metadata": {},
   "outputs": [
    {
     "data": {
      "text/plain": [
       "not_offensive        2713\n",
       "slight               2592\n",
       "very_offensive       1466\n",
       "hateful_offensive     221\n",
       "Name: offensive, dtype: int64"
      ]
     },
     "execution_count": 3,
     "metadata": {},
     "output_type": "execute_result"
    }
   ],
   "source": [
    "df['offensive'].value_counts()"
   ]
  },
  {
   "cell_type": "code",
   "execution_count": 4,
   "id": "cfd7f947",
   "metadata": {},
   "outputs": [
    {
     "data": {
      "text/plain": [
       "not_offensive     2713\n",
       "slight            2592\n",
       "very_offensive    1687\n",
       "Name: label, dtype: int64"
      ]
     },
     "execution_count": 4,
     "metadata": {},
     "output_type": "execute_result"
    }
   ],
   "source": [
    "df['label'] = df['offensive']\n",
    "df['label'] = np.where(df['label'] == 'hateful_offensive', 'very_offensive', df['label'])\n",
    "df['label'].value_counts()"
   ]
  },
  {
   "cell_type": "code",
   "execution_count": 5,
   "id": "b29e8f67",
   "metadata": {},
   "outputs": [
    {
     "data": {
      "text/html": [
       "<div>\n",
       "<style scoped>\n",
       "    .dataframe tbody tr th:only-of-type {\n",
       "        vertical-align: middle;\n",
       "    }\n",
       "\n",
       "    .dataframe tbody tr th {\n",
       "        vertical-align: top;\n",
       "    }\n",
       "\n",
       "    .dataframe thead th {\n",
       "        text-align: right;\n",
       "    }\n",
       "</style>\n",
       "<table border=\"1\" class=\"dataframe\">\n",
       "  <thead>\n",
       "    <tr style=\"text-align: right;\">\n",
       "      <th></th>\n",
       "      <th>image_name</th>\n",
       "      <th>text_corrected</th>\n",
       "      <th>label</th>\n",
       "    </tr>\n",
       "  </thead>\n",
       "  <tbody>\n",
       "    <tr>\n",
       "      <th>0</th>\n",
       "      <td>image_6115.jpg</td>\n",
       "      <td>I am therefore leaving immediately for Nepal  ...</td>\n",
       "      <td>slight</td>\n",
       "    </tr>\n",
       "    <tr>\n",
       "      <th>1</th>\n",
       "      <td>image_952.jpg</td>\n",
       "      <td>YOU HAD MY CURIOSITY  BUT NOW YOU HAVE MY ATTE...</td>\n",
       "      <td>not_offensive</td>\n",
       "    </tr>\n",
       "    <tr>\n",
       "      <th>2</th>\n",
       "      <td>image_5419.jpg</td>\n",
       "      <td>you should fear me</td>\n",
       "      <td>very_offensive</td>\n",
       "    </tr>\n",
       "    <tr>\n",
       "      <th>3</th>\n",
       "      <td>image_1617.png</td>\n",
       "      <td>In a time of universal deceit  telling the tru...</td>\n",
       "      <td>very_offensive</td>\n",
       "    </tr>\n",
       "    <tr>\n",
       "      <th>4</th>\n",
       "      <td>image_4875.jpeg</td>\n",
       "      <td>RYAN REYNOLDS DESIGNS OMMICHANG DETECTIVE PIKA...</td>\n",
       "      <td>very_offensive</td>\n",
       "    </tr>\n",
       "  </tbody>\n",
       "</table>\n",
       "</div>"
      ],
      "text/plain": [
       "        image_name                                     text_corrected  \\\n",
       "0   image_6115.jpg  I am therefore leaving immediately for Nepal  ...   \n",
       "1    image_952.jpg  YOU HAD MY CURIOSITY  BUT NOW YOU HAVE MY ATTE...   \n",
       "2   image_5419.jpg                                 you should fear me   \n",
       "3   image_1617.png  In a time of universal deceit  telling the tru...   \n",
       "4  image_4875.jpeg  RYAN REYNOLDS DESIGNS OMMICHANG DETECTIVE PIKA...   \n",
       "\n",
       "            label  \n",
       "0          slight  \n",
       "1   not_offensive  \n",
       "2  very_offensive  \n",
       "3  very_offensive  \n",
       "4  very_offensive  "
      ]
     },
     "execution_count": 5,
     "metadata": {},
     "output_type": "execute_result"
    }
   ],
   "source": [
    "df = df[['image_name', 'text_corrected', 'label']]\n",
    "df.head()"
   ]
  },
  {
   "cell_type": "code",
   "execution_count": 6,
   "id": "4903cab0",
   "metadata": {},
   "outputs": [
    {
     "data": {
      "text/plain": [
       "0    1399\n",
       "1    1399\n",
       "2    1398\n",
       "3    1398\n",
       "4    1398\n",
       "Name: kfold, dtype: int64"
      ]
     },
     "execution_count": 6,
     "metadata": {},
     "output_type": "execute_result"
    }
   ],
   "source": [
    "mskf = StratifiedKFold(n_splits=5)\n",
    "\n",
    "df['kfold'] = -1\n",
    "\n",
    "for fold, (train, valid) in enumerate(mskf.split(X=df, y=df['label'])):\n",
    "    df.loc[valid, 'kfold'] = fold\n",
    "\n",
    "df['kfold'].value_counts()"
   ]
  },
  {
   "cell_type": "code",
   "execution_count": 7,
   "id": "5e320d43",
   "metadata": {},
   "outputs": [],
   "source": [
    "df.to_csv('./memotion_dataset_7k/folds.csv', index=False)"
   ]
  }
 ],
 "metadata": {
  "kernelspec": {
   "display_name": "Python 3.9 (torch)",
   "language": "python",
   "name": "torch-env"
  },
  "language_info": {
   "codemirror_mode": {
    "name": "ipython",
    "version": 3
   },
   "file_extension": ".py",
   "mimetype": "text/x-python",
   "name": "python",
   "nbconvert_exporter": "python",
   "pygments_lexer": "ipython3",
   "version": "3.10.8"
  }
 },
 "nbformat": 4,
 "nbformat_minor": 5
}
